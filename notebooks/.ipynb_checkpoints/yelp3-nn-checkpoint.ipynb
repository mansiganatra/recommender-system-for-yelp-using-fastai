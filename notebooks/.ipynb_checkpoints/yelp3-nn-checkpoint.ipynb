{
 "cells": [
  {
   "cell_type": "markdown",
   "metadata": {
    "_uuid": "a336fb6ae5a3eb21f0e98bf9d067cd9e0a8edd67"
   },
   "source": [
    "# YELP Recommendation System"
   ]
  },
  {
   "cell_type": "code",
   "execution_count": 2,
   "metadata": {
    "_uuid": "88f96d2c8edbe7341969b4eade5e01b22808e926"
   },
   "outputs": [],
   "source": [
    "from fastai.collab import *\n",
    "from time import time"
   ]
  },
  {
   "cell_type": "code",
   "execution_count": 3,
   "metadata": {
    "_uuid": "995f0d3f2b67ae1d5be4a4b3c76a1d6321d56102"
   },
   "outputs": [
    {
     "data": {
      "text/plain": [
       "[WindowsPath('.ipynb_checkpoints'),\n",
       " WindowsPath('Book Recommendation System.ipynb'),\n",
       " WindowsPath('business.json'),\n",
       " WindowsPath('competition.ipynb'),\n",
       " WindowsPath('model'),\n",
       " WindowsPath('models'),\n",
       " WindowsPath('Recommendation System.ipynb'),\n",
       " WindowsPath('review_train.json'),\n",
       " WindowsPath('yelp-1.ipynb'),\n",
       " WindowsPath('yelp2-nn.ipynb'),\n",
       " WindowsPath('yelp2.ipynb'),\n",
       " WindowsPath('yelp_train.csv'),\n",
       " WindowsPath('yelp_val.csv')]"
      ]
     },
     "execution_count": 3,
     "metadata": {},
     "output_type": "execute_result"
    }
   ],
   "source": [
    "path = Path('.')\n",
    "path.ls()"
   ]
  },
  {
   "cell_type": "code",
   "execution_count": 4,
   "metadata": {
    "_uuid": "9e896d4d428d22aca0fd0da01fd2669e3baa349f"
   },
   "outputs": [
    {
     "data": {
      "text/html": [
       "<div>\n",
       "<style scoped>\n",
       "    .dataframe tbody tr th:only-of-type {\n",
       "        vertical-align: middle;\n",
       "    }\n",
       "\n",
       "    .dataframe tbody tr th {\n",
       "        vertical-align: top;\n",
       "    }\n",
       "\n",
       "    .dataframe thead th {\n",
       "        text-align: right;\n",
       "    }\n",
       "</style>\n",
       "<table border=\"1\" class=\"dataframe\">\n",
       "  <thead>\n",
       "    <tr style=\"text-align: right;\">\n",
       "      <th></th>\n",
       "      <th>user_id</th>\n",
       "      <th>business_id</th>\n",
       "      <th>stars</th>\n",
       "    </tr>\n",
       "  </thead>\n",
       "  <tbody>\n",
       "    <tr>\n",
       "      <th>0</th>\n",
       "      <td>vxR_YV0atFxIxfOnF9uHjQ</td>\n",
       "      <td>gTw6PENNGl68ZPUpYWP50A</td>\n",
       "      <td>5.0</td>\n",
       "    </tr>\n",
       "    <tr>\n",
       "      <th>1</th>\n",
       "      <td>o0p-iTC5yTBV5Yab_7es4g</td>\n",
       "      <td>iAuOpYDfOTuzQ6OPpEiGwA</td>\n",
       "      <td>4.0</td>\n",
       "    </tr>\n",
       "    <tr>\n",
       "      <th>2</th>\n",
       "      <td>-qj9ouN0bzMXz1vfEslG-A</td>\n",
       "      <td>5j7BnXXvlS69uLVHrY9Upw</td>\n",
       "      <td>2.0</td>\n",
       "    </tr>\n",
       "    <tr>\n",
       "      <th>3</th>\n",
       "      <td>E43QxgV87Ij6KxMCHcijKw</td>\n",
       "      <td>jUYp798M93Mpcjys_TTgsQ</td>\n",
       "      <td>5.0</td>\n",
       "    </tr>\n",
       "    <tr>\n",
       "      <th>4</th>\n",
       "      <td>T13IBpJITI32a1k41rc-tg</td>\n",
       "      <td>3MntE_HWbNNoyiLGxywjYA</td>\n",
       "      <td>5.0</td>\n",
       "    </tr>\n",
       "  </tbody>\n",
       "</table>\n",
       "</div>"
      ],
      "text/plain": [
       "                  user_id             business_id  stars\n",
       "0  vxR_YV0atFxIxfOnF9uHjQ  gTw6PENNGl68ZPUpYWP50A    5.0\n",
       "1  o0p-iTC5yTBV5Yab_7es4g  iAuOpYDfOTuzQ6OPpEiGwA    4.0\n",
       "2  -qj9ouN0bzMXz1vfEslG-A  5j7BnXXvlS69uLVHrY9Upw    2.0\n",
       "3  E43QxgV87Ij6KxMCHcijKw  jUYp798M93Mpcjys_TTgsQ    5.0\n",
       "4  T13IBpJITI32a1k41rc-tg  3MntE_HWbNNoyiLGxywjYA    5.0"
      ]
     },
     "execution_count": 4,
     "metadata": {},
     "output_type": "execute_result"
    }
   ],
   "source": [
    "train_df = pd.read_csv(path/'yelp_train.csv')\n",
    "test_df = pd.read_csv(path/'yelp_val.csv')\n",
    "# print(train_df.columns)\n",
    "train_df[\"stars\"]= train_df[\"stars\"].astype(float)\n",
    "test_df[\"stars\"]= test_df[\"stars\"].astype(float)\n",
    "train_df.head()"
   ]
  },
  {
   "cell_type": "code",
   "execution_count": 5,
   "metadata": {
    "_uuid": "ddd31f28f2060bf474893212b3ec6b55062334cc"
   },
   "outputs": [],
   "source": [
    "data = CollabDataBunch.from_df(ratings=train_df, seed=5, valid_pct=0.1,user_name='user_id', \n",
    "                               item_name='business_id', rating_name='stars', test=test_df, bs=len(test_df))"
   ]
  },
  {
   "cell_type": "code",
   "execution_count": 6,
   "metadata": {
    "_uuid": "bb5161f0387bae2ce3b9c59da8f54346c5159cfa"
   },
   "outputs": [],
   "source": [
    "# data.show_batch()"
   ]
  },
  {
   "cell_type": "code",
   "execution_count": 7,
   "metadata": {
    "_uuid": "082dea4c28bb16e2e249f967520ff7ac0e6de21d"
   },
   "outputs": [
    {
     "data": {
      "text/plain": [
       "(1.0, 5.0)"
      ]
     },
     "execution_count": 7,
     "metadata": {},
     "output_type": "execute_result"
    }
   ],
   "source": [
    "train_df.stars.min(), train_df.stars.max()"
   ]
  },
  {
   "cell_type": "code",
   "execution_count": 8,
   "metadata": {},
   "outputs": [],
   "source": [
    "def my_rmse(x,y):\n",
    "    return math.sqrt(((x-y)**2).mean())"
   ]
  },
  {
   "cell_type": "code",
   "execution_count": 9,
   "metadata": {},
   "outputs": [],
   "source": [
    "wd=1e-4 \n",
    "n_epochs=10\n",
    "n_factors=50\n",
    "lr=4e-3"
   ]
  },
  {
   "cell_type": "markdown",
   "metadata": {
    "_uuid": "2d16aa90a97b8df051e16f2455213d2928fc0d14"
   },
   "source": [
    "## EmbeddingNN Model"
   ]
  },
  {
   "cell_type": "code",
   "execution_count": 10,
   "metadata": {
    "_uuid": "692ca1e9c9e6957a0c420dc06c7839fe47e6dce5"
   },
   "outputs": [],
   "source": [
    "learn_nn = collab_learner(data, use_nn=True, emb_szs={'user_id': 50, 'business_id':50}, layers=[256, 128], y_range=(1, 5.5))"
   ]
  },
  {
   "cell_type": "code",
   "execution_count": null,
   "metadata": {},
   "outputs": [],
   "source": [
    "print(learn_nn.summary())"
   ]
  },
  {
   "cell_type": "code",
   "execution_count": 11,
   "metadata": {
    "_uuid": "2e2f6412887e377d3935b1703f8d803f03a04796"
   },
   "outputs": [],
   "source": [
    "# learn.lr_find()"
   ]
  },
  {
   "cell_type": "code",
   "execution_count": 12,
   "metadata": {},
   "outputs": [],
   "source": [
    "# learn.recorder.plot()"
   ]
  },
  {
   "cell_type": "code",
   "execution_count": 13,
   "metadata": {
    "_uuid": "26a3e26aec670ae6efd27ba18c813ef65c884558"
   },
   "outputs": [
    {
     "data": {
      "text/html": [
       "<table border=\"1\" class=\"dataframe\">\n",
       "  <thead>\n",
       "    <tr style=\"text-align: left;\">\n",
       "      <th>epoch</th>\n",
       "      <th>train_loss</th>\n",
       "      <th>valid_loss</th>\n",
       "      <th>time</th>\n",
       "    </tr>\n",
       "  </thead>\n",
       "  <tbody>\n",
       "    <tr>\n",
       "      <td>0</td>\n",
       "      <td>1.813700</td>\n",
       "      <td>1.679519</td>\n",
       "      <td>02:00</td>\n",
       "    </tr>\n",
       "    <tr>\n",
       "      <td>1</td>\n",
       "      <td>1.625617</td>\n",
       "      <td>1.614453</td>\n",
       "      <td>02:06</td>\n",
       "    </tr>\n",
       "    <tr>\n",
       "      <td>2</td>\n",
       "      <td>1.502318</td>\n",
       "      <td>1.546498</td>\n",
       "      <td>02:04</td>\n",
       "    </tr>\n",
       "    <tr>\n",
       "      <td>3</td>\n",
       "      <td>1.404001</td>\n",
       "      <td>1.473558</td>\n",
       "      <td>02:04</td>\n",
       "    </tr>\n",
       "    <tr>\n",
       "      <td>4</td>\n",
       "      <td>1.319443</td>\n",
       "      <td>1.407757</td>\n",
       "      <td>02:09</td>\n",
       "    </tr>\n",
       "    <tr>\n",
       "      <td>5</td>\n",
       "      <td>1.241507</td>\n",
       "      <td>1.350772</td>\n",
       "      <td>02:09</td>\n",
       "    </tr>\n",
       "    <tr>\n",
       "      <td>6</td>\n",
       "      <td>1.166748</td>\n",
       "      <td>1.305280</td>\n",
       "      <td>02:09</td>\n",
       "    </tr>\n",
       "    <tr>\n",
       "      <td>7</td>\n",
       "      <td>1.095348</td>\n",
       "      <td>1.274882</td>\n",
       "      <td>02:10</td>\n",
       "    </tr>\n",
       "    <tr>\n",
       "      <td>8</td>\n",
       "      <td>1.027581</td>\n",
       "      <td>1.260429</td>\n",
       "      <td>02:11</td>\n",
       "    </tr>\n",
       "    <tr>\n",
       "      <td>9</td>\n",
       "      <td>0.965087</td>\n",
       "      <td>1.261705</td>\n",
       "      <td>02:11</td>\n",
       "    </tr>\n",
       "  </tbody>\n",
       "</table>"
      ],
      "text/plain": [
       "<IPython.core.display.HTML object>"
      ]
     },
     "metadata": {},
     "output_type": "display_data"
    }
   ],
   "source": [
    "learn_nn.fit(lr=lr, epochs=n_epochs, wd=wd)"
   ]
  },
  {
   "cell_type": "code",
   "execution_count": 15,
   "metadata": {
    "_uuid": "eb81cfc16cb5da65781ce0bbedaacdebd27788d3"
   },
   "outputs": [],
   "source": [
    "learn_nn.save('yelp-nn-4.pkl')"
   ]
  },
  {
   "cell_type": "code",
   "execution_count": 16,
   "metadata": {},
   "outputs": [],
   "source": [
    "# learner_nn = learn_nn.load(\"yelp-nn-1\")\n",
    "(users, items), ratings = next(iter(data.test_dl))\n",
    "preds_nn = learn_nn.model(users, items)"
   ]
  },
  {
   "cell_type": "code",
   "execution_count": 17,
   "metadata": {},
   "outputs": [],
   "source": [
    "scores_nn = pd.DataFrame(\n",
    "    {\"user_id\": test_df[\"user_id\"], \"business_id\": test_df[\"business_id\"], \"rating\": preds_nn}\n",
    ")\n",
    "scores_nn = scores_nn.sort_values([\"user_id\"], ascending=True)"
   ]
  },
  {
   "cell_type": "code",
   "execution_count": 18,
   "metadata": {},
   "outputs": [],
   "source": [
    "y = test_df.sort_values([\"user_id\"], ascending=True)[\"stars\"]\n",
    "y1 = pd.Series(preds_nn.detach().numpy().flatten())"
   ]
  },
  {
   "cell_type": "code",
   "execution_count": 21,
   "metadata": {},
   "outputs": [],
   "source": [
    "# type(preds_nn.detach().numpy().flatten()), preds_nn.detach().numpy().shape, preds_nn.detach().numpy().flatten()"
   ]
  },
  {
   "cell_type": "code",
   "execution_count": 22,
   "metadata": {},
   "outputs": [],
   "source": [
    "# type(y), type(y1)"
   ]
  },
  {
   "cell_type": "code",
   "execution_count": 23,
   "metadata": {},
   "outputs": [
    {
     "name": "stdout",
     "output_type": "stream",
     "text": [
      "NN RMSE:  1.1232086255886649\n"
     ]
    }
   ],
   "source": [
    "result = my_rmse(y1, y)\n",
    "print(\"NN RMSE: \", result)"
   ]
  },
  {
   "cell_type": "markdown",
   "metadata": {
    "_uuid": "75e8930f18401e2fd7ac8ebe2b52dd354f643fad"
   },
   "source": [
    "## Interpretation"
   ]
  },
  {
   "cell_type": "code",
   "execution_count": 24,
   "metadata": {
    "_uuid": "4bc85cecb1fff002a74f874cc8e86ed33d46c770"
   },
   "outputs": [],
   "source": [
    "learn = collab_learner(data, n_factors=40, y_range=(1, 5), wd=1e-1, model_dir=\"/tmp/model/\", path=\"/tmp/\")\n",
    "learn.load('yelp-dot-1');"
   ]
  },
  {
   "cell_type": "code",
   "execution_count": 25,
   "metadata": {
    "_uuid": "f92e25f9db1d6937995b14a94e365fb5f9f9dd36"
   },
   "outputs": [
    {
     "data": {
      "text/html": [
       "<div>\n",
       "<style scoped>\n",
       "    .dataframe tbody tr th:only-of-type {\n",
       "        vertical-align: middle;\n",
       "    }\n",
       "\n",
       "    .dataframe tbody tr th {\n",
       "        vertical-align: top;\n",
       "    }\n",
       "\n",
       "    .dataframe thead th {\n",
       "        text-align: right;\n",
       "    }\n",
       "</style>\n",
       "<table border=\"1\" class=\"dataframe\">\n",
       "  <thead>\n",
       "    <tr style=\"text-align: right;\">\n",
       "      <th></th>\n",
       "      <th>address</th>\n",
       "      <th>attributes</th>\n",
       "      <th>business_id</th>\n",
       "      <th>categories</th>\n",
       "      <th>city</th>\n",
       "      <th>hours</th>\n",
       "      <th>is_open</th>\n",
       "      <th>latitude</th>\n",
       "      <th>longitude</th>\n",
       "      <th>name</th>\n",
       "      <th>neighborhood</th>\n",
       "      <th>postal_code</th>\n",
       "      <th>review_count</th>\n",
       "      <th>stars</th>\n",
       "      <th>state</th>\n",
       "    </tr>\n",
       "  </thead>\n",
       "  <tbody>\n",
       "    <tr>\n",
       "      <th>0</th>\n",
       "      <td>1314 44 Avenue NE</td>\n",
       "      <td>{'BikeParking': 'False', 'BusinessAcceptsCredi...</td>\n",
       "      <td>Apn5Q_b6Nz61Tq4XzPdf9A</td>\n",
       "      <td>Tours, Breweries, Pizza, Restaurants, Food, Ho...</td>\n",
       "      <td>Calgary</td>\n",
       "      <td>{'Monday': '8:30-17:0', 'Tuesday': '11:0-21:0'...</td>\n",
       "      <td>1</td>\n",
       "      <td>51.091813</td>\n",
       "      <td>-114.031675</td>\n",
       "      <td>Minhas Micro Brewery</td>\n",
       "      <td></td>\n",
       "      <td>T2E 6L6</td>\n",
       "      <td>24</td>\n",
       "      <td>4.0</td>\n",
       "      <td>AB</td>\n",
       "    </tr>\n",
       "    <tr>\n",
       "      <th>1</th>\n",
       "      <td></td>\n",
       "      <td>{'Alcohol': 'none', 'BikeParking': 'False', 'B...</td>\n",
       "      <td>AjEbIBw6ZFfln7ePHha9PA</td>\n",
       "      <td>Chicken Wings, Burgers, Caterers, Street Vendo...</td>\n",
       "      <td>Henderson</td>\n",
       "      <td>{'Friday': '17:0-23:0', 'Saturday': '17:0-23:0...</td>\n",
       "      <td>0</td>\n",
       "      <td>35.960734</td>\n",
       "      <td>-114.939821</td>\n",
       "      <td>CK'S BBQ &amp; Catering</td>\n",
       "      <td></td>\n",
       "      <td>89002</td>\n",
       "      <td>3</td>\n",
       "      <td>4.5</td>\n",
       "      <td>NV</td>\n",
       "    </tr>\n",
       "    <tr>\n",
       "      <th>2</th>\n",
       "      <td>1335 rue Beaubien E</td>\n",
       "      <td>{'Alcohol': 'beer_and_wine', 'Ambience': '{'ro...</td>\n",
       "      <td>O8S5hYJ1SMc8fA4QBtVujA</td>\n",
       "      <td>Breakfast &amp; Brunch, Restaurants, French, Sandw...</td>\n",
       "      <td>MontrÃ©al</td>\n",
       "      <td>{'Monday': '10:0-22:0', 'Tuesday': '10:0-22:0'...</td>\n",
       "      <td>0</td>\n",
       "      <td>45.540503</td>\n",
       "      <td>-73.599300</td>\n",
       "      <td>La Bastringue</td>\n",
       "      <td>Rosemont-La Petite-Patrie</td>\n",
       "      <td>H2G 1K7</td>\n",
       "      <td>5</td>\n",
       "      <td>4.0</td>\n",
       "      <td>QC</td>\n",
       "    </tr>\n",
       "    <tr>\n",
       "      <th>3</th>\n",
       "      <td>211 W Monroe St</td>\n",
       "      <td>None</td>\n",
       "      <td>bFzdJJ3wp3PZssNEsyU23g</td>\n",
       "      <td>Insurance, Financial Services</td>\n",
       "      <td>Phoenix</td>\n",
       "      <td>None</td>\n",
       "      <td>1</td>\n",
       "      <td>33.449999</td>\n",
       "      <td>-112.076979</td>\n",
       "      <td>Geico Insurance</td>\n",
       "      <td></td>\n",
       "      <td>85003</td>\n",
       "      <td>8</td>\n",
       "      <td>1.5</td>\n",
       "      <td>AZ</td>\n",
       "    </tr>\n",
       "    <tr>\n",
       "      <th>4</th>\n",
       "      <td>2005 Alyth Place SE</td>\n",
       "      <td>{'BusinessAcceptsCreditCards': 'True'}</td>\n",
       "      <td>8USyCYqpScwiNEb58Bt6CA</td>\n",
       "      <td>Home &amp; Garden, Nurseries &amp; Gardening, Shopping...</td>\n",
       "      <td>Calgary</td>\n",
       "      <td>{'Monday': '8:0-17:0', 'Tuesday': '8:0-17:0', ...</td>\n",
       "      <td>1</td>\n",
       "      <td>51.035591</td>\n",
       "      <td>-114.027366</td>\n",
       "      <td>Action Engine</td>\n",
       "      <td></td>\n",
       "      <td>T2H 0N5</td>\n",
       "      <td>4</td>\n",
       "      <td>2.0</td>\n",
       "      <td>AB</td>\n",
       "    </tr>\n",
       "  </tbody>\n",
       "</table>\n",
       "</div>"
      ],
      "text/plain": [
       "               address                                         attributes  \\\n",
       "0    1314 44 Avenue NE  {'BikeParking': 'False', 'BusinessAcceptsCredi...   \n",
       "1                       {'Alcohol': 'none', 'BikeParking': 'False', 'B...   \n",
       "2  1335 rue Beaubien E  {'Alcohol': 'beer_and_wine', 'Ambience': '{'ro...   \n",
       "3      211 W Monroe St                                               None   \n",
       "4  2005 Alyth Place SE             {'BusinessAcceptsCreditCards': 'True'}   \n",
       "\n",
       "              business_id                                         categories  \\\n",
       "0  Apn5Q_b6Nz61Tq4XzPdf9A  Tours, Breweries, Pizza, Restaurants, Food, Ho...   \n",
       "1  AjEbIBw6ZFfln7ePHha9PA  Chicken Wings, Burgers, Caterers, Street Vendo...   \n",
       "2  O8S5hYJ1SMc8fA4QBtVujA  Breakfast & Brunch, Restaurants, French, Sandw...   \n",
       "3  bFzdJJ3wp3PZssNEsyU23g                      Insurance, Financial Services   \n",
       "4  8USyCYqpScwiNEb58Bt6CA  Home & Garden, Nurseries & Gardening, Shopping...   \n",
       "\n",
       "        city                                              hours  is_open  \\\n",
       "0    Calgary  {'Monday': '8:30-17:0', 'Tuesday': '11:0-21:0'...        1   \n",
       "1  Henderson  {'Friday': '17:0-23:0', 'Saturday': '17:0-23:0...        0   \n",
       "2  MontrÃ©al  {'Monday': '10:0-22:0', 'Tuesday': '10:0-22:0'...        0   \n",
       "3    Phoenix                                               None        1   \n",
       "4    Calgary  {'Monday': '8:0-17:0', 'Tuesday': '8:0-17:0', ...        1   \n",
       "\n",
       "    latitude   longitude                  name               neighborhood  \\\n",
       "0  51.091813 -114.031675  Minhas Micro Brewery                              \n",
       "1  35.960734 -114.939821   CK'S BBQ & Catering                              \n",
       "2  45.540503  -73.599300         La Bastringue  Rosemont-La Petite-Patrie   \n",
       "3  33.449999 -112.076979       Geico Insurance                              \n",
       "4  51.035591 -114.027366         Action Engine                              \n",
       "\n",
       "  postal_code  review_count  stars state  \n",
       "0     T2E 6L6            24    4.0    AB  \n",
       "1       89002             3    4.5    NV  \n",
       "2     H2G 1K7             5    4.0    QC  \n",
       "3       85003             8    1.5    AZ  \n",
       "4     T2H 0N5             4    2.0    AB  "
      ]
     },
     "execution_count": 25,
     "metadata": {},
     "output_type": "execute_result"
    }
   ],
   "source": [
    "businesses = {}\n",
    "businesses =  pd.read_json(path/\"business.json\", orient='columns',lines=True)\n",
    "business_df =  pd.DataFrame.from_dict(businesses)\n",
    "business_df.head()"
   ]
  },
  {
   "cell_type": "code",
   "execution_count": 26,
   "metadata": {
    "_uuid": "e3e0b59db71e119646cc4adc6b6f00913519d25c"
   },
   "outputs": [
    {
     "data": {
      "text/plain": [
       "array(['4JNXUYY8wbaaDmk3BPzlWw', 'FaHADZARwnY4yvlvpnsfGA', 'K7lWdNUhCbcnEvI0NhGewg', 'RESDUcs7fIiihp38-d6_6g',\n",
       "       '7sPNbCx7vGAaH7SbNPZ6oA', 'iCQpiavjjPzJ5_3gPD5Ebg', 'r_BrIgzYcwo1NAuG9dLbpg', 'eoHdUeQDNgQ6WYEnP2aiRw',\n",
       "       'DkYS3arLOhA8si5uUEmHOw', 'UPIYuRaZvknINOd1w8kqRQ'], dtype='<U22')"
      ]
     },
     "execution_count": 26,
     "metadata": {},
     "output_type": "execute_result"
    }
   ],
   "source": [
    "g = train_df.groupby('business_id')['stars'].count()\n",
    "top_business = g.sort_values(ascending=False).index.values[:1000]\n",
    "top_business = top_business.astype(str)\n",
    "top_business[:10]"
   ]
  },
  {
   "cell_type": "code",
   "execution_count": 27,
   "metadata": {
    "_uuid": "594443ad53a3b2eca20f6dacd0df4e22ca9243d5"
   },
   "outputs": [
    {
     "data": {
      "text/plain": [
       "array(['Mon Ami Gabi', 'McCarran International Airport', 'Wicked Spoon', 'Bacchanal Buffet', ..., 'Fugo Desserts',\n",
       "       \"Nicky's Thai Kitchen\", 'Lamesa Filipino Kitchen', \"Rachel's Kitchen\"], dtype='<U57')"
      ]
     },
     "execution_count": 27,
     "metadata": {},
     "output_type": "execute_result"
    }
   ],
   "source": [
    "top_businesses_with_name = []\n",
    "for business in top_business:\n",
    "    top_businesses_with_name.append(business_df[(business_df['business_id']==business)]['name'].iloc[0])\n",
    "top_businesses_with_name = np.array(top_businesses_with_name)\n",
    "top_businesses_with_name"
   ]
  },
  {
   "cell_type": "markdown",
   "metadata": {
    "_uuid": "e20eefd2a5ac29a8145c3c4f298a3b3222066f94"
   },
   "source": [
    "## Restaurant Bias"
   ]
  },
  {
   "cell_type": "code",
   "execution_count": 29,
   "metadata": {
    "_uuid": "e9ef5dbcf4f2f7b697ee20f366d89b46d43316d3"
   },
   "outputs": [
    {
     "data": {
      "text/plain": [
       "EmbeddingDotBias(\n",
       "  (u_weight): Embedding(11271, 40)\n",
       "  (i_weight): Embedding(24620, 40)\n",
       "  (u_bias): Embedding(11271, 1)\n",
       "  (i_bias): Embedding(24620, 1)\n",
       ")"
      ]
     },
     "execution_count": 29,
     "metadata": {},
     "output_type": "execute_result"
    }
   ],
   "source": [
    "learn.model"
   ]
  },
  {
   "cell_type": "code",
   "execution_count": 30,
   "metadata": {
    "_uuid": "4234db58aa944ca8bfbe3d3f7cd7c3caa108866c"
   },
   "outputs": [],
   "source": [
    "business_bias = learn.bias(top_business, is_item=True)"
   ]
  },
  {
   "cell_type": "code",
   "execution_count": 31,
   "metadata": {
    "_uuid": "d3243def55595325e969aee176cda3b47ab45a5c"
   },
   "outputs": [],
   "source": [
    "mean_ratings = train_df.groupby('business_id')['stars'].mean()\n",
    "business_ratings = [(b, top_businesses_with_name[i], mean_ratings.loc[tb]) for i, (tb, b) in enumerate(zip(top_business, business_bias))]"
   ]
  },
  {
   "cell_type": "code",
   "execution_count": 32,
   "metadata": {
    "_uuid": "b0951ca49a0ac1f788b10bb1460f30e85bf576c8"
   },
   "outputs": [],
   "source": [
    "item0 = lambda o:o[0]"
   ]
  },
  {
   "cell_type": "code",
   "execution_count": 33,
   "metadata": {
    "_uuid": "3cf1729724390881838de407ed210abcb73c6cf9"
   },
   "outputs": [
    {
     "data": {
      "text/plain": [
       "[(tensor(-0.0182), 'Bellwoods Brewery', 3.897727272727273),\n",
       " (tensor(-0.0182), 'Sienna Mercato', 3.984848484848485),\n",
       " (tensor(-0.0181), 'Primanti Bros', 3.5060240963855422),\n",
       " (tensor(-0.0180), 'KINKA IZAKAYA BLOOR', 4.080357142857143),\n",
       " (tensor(-0.0179), 'The Chandelier', 4.25748502994012),\n",
       " (tensor(-0.0176), 'Regal Cinemas Red Rock 16 & IMAX', 3.8598130841121496),\n",
       " (tensor(-0.0176), 'The Oyster Bar', 4.359375),\n",
       " (tensor(-0.0174), 'Aloha Specialties', 3.967032967032967),\n",
       " (tensor(-0.0170), 'The Fat Greek', 4.0125),\n",
       " (tensor(-0.0166), 'Geisha House Steak & Sushi', 3.7857142857142856),\n",
       " (tensor(-0.0165), 'Islands Restaurant', 3.4383561643835616),\n",
       " (tensor(-0.0164), 'Sidestreet Pho and Grill', 4.168674698795181),\n",
       " (tensor(-0.0164), 'Public House', 3.8550724637681157),\n",
       " (tensor(-0.0162), 'Hash House A Go Go', 3.0985915492957745),\n",
       " (tensor(-0.0161), 'Shake Shack', 3.735042735042735)]"
      ]
     },
     "execution_count": 33,
     "metadata": {},
     "output_type": "execute_result"
    }
   ],
   "source": [
    "sorted(business_ratings, key=item0)[:15]"
   ]
  },
  {
   "cell_type": "code",
   "execution_count": 34,
   "metadata": {
    "_uuid": "a6aa3295e792bde8951243425e9a4de83f1eeef8"
   },
   "outputs": [
    {
     "data": {
      "text/plain": [
       "[(tensor(0.0214), 'Viet Bistro', 3.4523809523809526),\n",
       " (tensor(0.0214), 'Viet Noodle Bar', 4.2846153846153845),\n",
       " (tensor(0.0209), 'Beerbistro', 3.875),\n",
       " (tensor(0.0208), 'China Poblano', 3.267716535433071),\n",
       " (tensor(0.0205), 'MerÃ¡ki Greek Grill', 4.741176470588235),\n",
       " (tensor(0.0204), 'Burrito Boyz', 3.9027777777777777),\n",
       " (tensor(0.0202), 'Nadege', 4.116071428571429),\n",
       " (tensor(0.0201), 'Swish Shabu Shabu', 3.610526315789474),\n",
       " (tensor(0.0197), 'West Side Market', 4.627118644067797),\n",
       " (tensor(0.0197), 'Black Camel', 4.2105263157894735),\n",
       " (tensor(0.0196), 'Kuma Snow Cream', 3.4358974358974357),\n",
       " (tensor(0.0196),\n",
       "  'Paymons Mediterranean Cafe & Hookah Lounge',\n",
       "  3.6666666666666665),\n",
       " (tensor(0.0196), 'Barroco', 4.506666666666667),\n",
       " (tensor(0.0192), 'Babystacks Cafe', 3.770642201834862),\n",
       " (tensor(0.0191), 'Whole Foods Market', 3.9894736842105263)]"
      ]
     },
     "execution_count": 34,
     "metadata": {},
     "output_type": "execute_result"
    }
   ],
   "source": [
    "sorted(business_ratings, key=item0, reverse=True)[:15]"
   ]
  },
  {
   "cell_type": "code",
   "execution_count": 35,
   "metadata": {
    "_uuid": "5a3208a2094cac02977343b799f582856f8e8820"
   },
   "outputs": [
    {
     "data": {
      "text/plain": [
       "torch.Size([1000, 40])"
      ]
     },
     "execution_count": 35,
     "metadata": {},
     "output_type": "execute_result"
    }
   ],
   "source": [
    "business_w = learn.weight(top_business, is_item=True)\n",
    "business_w.shape"
   ]
  },
  {
   "cell_type": "code",
   "execution_count": 36,
   "metadata": {
    "_uuid": "9f343ade1d65a1b821522d2cabce8e8b85206ee6"
   },
   "outputs": [
    {
     "data": {
      "text/plain": [
       "torch.Size([1000, 3])"
      ]
     },
     "execution_count": 36,
     "metadata": {},
     "output_type": "execute_result"
    }
   ],
   "source": [
    "business_pca = business_w.pca(3)\n",
    "business_pca.shape"
   ]
  },
  {
   "cell_type": "code",
   "execution_count": 37,
   "metadata": {
    "_uuid": "b89247d0ae497cc345177d5f749b954c034e8dde"
   },
   "outputs": [],
   "source": [
    "fac0,fac1,fac2 = business_pca.t()\n",
    "business_comp = [(f, i) for f,i in zip(fac0, top_businesses_with_name)]"
   ]
  },
  {
   "cell_type": "code",
   "execution_count": 38,
   "metadata": {
    "_uuid": "b1e55b2c28b058d51b4ddd72b85a0e06422d26a4"
   },
   "outputs": [
    {
     "data": {
      "text/plain": [
       "[(tensor(0.0336), 'Mill Street Brew Pub'),\n",
       " (tensor(0.0319), 'Ichiza'),\n",
       " (tensor(0.0307), 'Jenni Pho'),\n",
       " (tensor(0.0296), 'Mac Shack Spring Valley'),\n",
       " (tensor(0.0277), \"Fran's Restaurant\"),\n",
       " (tensor(0.0274), 'Nothing Bundt Cakes'),\n",
       " (tensor(0.0251), 'Coca-Cola Store Las Vegas'),\n",
       " (tensor(0.0246), 'Cornish Pasty'),\n",
       " (tensor(0.0246), 'Pho Aimie'),\n",
       " (tensor(0.0242), \"Tommy's Restaurant\")]"
      ]
     },
     "execution_count": 38,
     "metadata": {},
     "output_type": "execute_result"
    }
   ],
   "source": [
    "sorted(business_comp, key=itemgetter(0), reverse=True)[:10]"
   ]
  },
  {
   "cell_type": "code",
   "execution_count": 39,
   "metadata": {
    "_uuid": "9883d22bcc158a14d08ac06c7630b2a232f3d3d5"
   },
   "outputs": [
    {
     "data": {
      "text/plain": [
       "[(tensor(-0.0305), 'Bread and Butter'),\n",
       " (tensor(-0.0275), 'Art of Flavors'),\n",
       " (tensor(-0.0271), 'Donut Bar'),\n",
       " (tensor(-0.0260), 'Tryst Nightclub'),\n",
       " (tensor(-0.0259), 'Pizzeria Libretto'),\n",
       " (tensor(-0.0253), 'Galaxy Cannery Theatre'),\n",
       " (tensor(-0.0251), 'Fat Choy'),\n",
       " (tensor(-0.0251), 'Tupelo Honey'),\n",
       " (tensor(-0.0243), 'SUSHISAMBA - Las Vegas'),\n",
       " (tensor(-0.0243), 'Byblos')]"
      ]
     },
     "execution_count": 39,
     "metadata": {},
     "output_type": "execute_result"
    }
   ],
   "source": [
    "sorted(business_comp, key=itemgetter(0))[:10]"
   ]
  },
  {
   "cell_type": "code",
   "execution_count": 40,
   "metadata": {
    "_uuid": "10e93a9a0c3b79f693038fc68ac694d9f45ca04e"
   },
   "outputs": [],
   "source": [
    "business_comp = [(f, i) for f,i in zip(fac1, top_businesses_with_name)]"
   ]
  },
  {
   "cell_type": "code",
   "execution_count": 41,
   "metadata": {
    "_uuid": "c9e8f7c5e0309f40d5273072f54980fef1723b2d"
   },
   "outputs": [
    {
     "data": {
      "text/plain": [
       "[(tensor(0.0345), 'Restoran Malaysia'),\n",
       " (tensor(0.0261), 'Elephant Bar Restaurant'),\n",
       " (tensor(0.0260), 'Mill Street Brew Pub'),\n",
       " (tensor(0.0254), 'Brew Tea Bar'),\n",
       " (tensor(0.0253), \"Ronald's Donuts\"),\n",
       " (tensor(0.0252), 'Pink Box Doughnuts'),\n",
       " (tensor(0.0249), 'CREAM'),\n",
       " (tensor(0.0247), 'HofbrÃ¤uhaus Las Vegas'),\n",
       " (tensor(0.0242), 'Burgatory'),\n",
       " (tensor(0.0238), 'To See Roll')]"
      ]
     },
     "execution_count": 41,
     "metadata": {},
     "output_type": "execute_result"
    }
   ],
   "source": [
    "sorted(business_comp, key=itemgetter(0), reverse=True)[:10]"
   ]
  },
  {
   "cell_type": "code",
   "execution_count": 42,
   "metadata": {
    "_uuid": "ad5967179bccdf08c4ea7655404cab93908b4e62"
   },
   "outputs": [
    {
     "data": {
      "text/plain": [
       "[(tensor(-0.0313), 'Planet Hollywood Las Vegas Resort & Casino'),\n",
       " (tensor(-0.0281), 'Pampas Churrascaria Brazilian Grille'),\n",
       " (tensor(-0.0274), 'Dragon Legend'),\n",
       " (tensor(-0.0265), 'Viva Zapatas Mexican Restaurant & Cantina'),\n",
       " (tensor(-0.0260), 'South Point Hotel, Casino & Spa'),\n",
       " (tensor(-0.0251), 'Raijin Ramen'),\n",
       " (tensor(-0.0249), \"Naked Fish's Sushi & Grill\"),\n",
       " (tensor(-0.0247), 'Soul Gastrolounge'),\n",
       " (tensor(-0.0246), \"Mount Everest India's Cuisine\"),\n",
       " (tensor(-0.0246), \"Du-Par's\")]"
      ]
     },
     "execution_count": 42,
     "metadata": {},
     "output_type": "execute_result"
    }
   ],
   "source": [
    "sorted(business_comp, key=itemgetter(0))[:10]"
   ]
  },
  {
   "cell_type": "code",
   "execution_count": 43,
   "metadata": {
    "_uuid": "403b05a2269a82b7aad8d1dd2d4ed4a188b4667a"
   },
   "outputs": [
    {
     "data": {
      "image/png": "[encoded data removed]",
      "text/plain": [
       "<Figure size 1080x1080 with 1 Axes>"
      ]
     },
     "metadata": {
      "needs_background": "light"
     },
     "output_type": "display_data"
    }
   ],
   "source": [
    "idxs = np.random.choice(len(top_businesses_with_name), 50, replace=False)\n",
    "idxs = list(range(50))\n",
    "X = fac0[idxs]\n",
    "Y = fac2[idxs]\n",
    "plt.figure(figsize=(15,15))\n",
    "plt.scatter(X, Y)\n",
    "for i, x, y in zip(top_businesses_with_name[idxs], X, Y):\n",
    "    plt.text(x,y,i, color=np.random.rand(3)*0.7, fontsize=11)\n",
    "plt.show()"
   ]
  },
  {
   "cell_type": "code",
   "execution_count": null,
   "metadata": {},
   "outputs": [],
   "source": []
  }
 ],
 "metadata": {
  "kernelspec": {
   "display_name": "Python 3",
   "language": "python",
   "name": "python3"
  },
  "language_info": {
   "codemirror_mode": {
    "name": "ipython",
    "version": 3
   },
   "file_extension": ".py",
   "mimetype": "text/x-python",
   "name": "python",
   "nbconvert_exporter": "python",
   "pygments_lexer": "ipython3",
   "version": "3.6.8"
  }
 },
 "nbformat": 4,
 "nbformat_minor": 1
}
