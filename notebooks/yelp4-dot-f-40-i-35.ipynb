{
 "cells": [
  {
   "cell_type": "markdown",
   "metadata": {
    "_uuid": "a336fb6ae5a3eb21f0e98bf9d067cd9e0a8edd67"
   },
   "source": [
    "# YELP Recommendation System"
   ]
  },
  {
   "cell_type": "code",
   "execution_count": 1,
   "metadata": {
    "_uuid": "88f96d2c8edbe7341969b4eade5e01b22808e926"
   },
   "outputs": [],
   "source": [
    "from fastai.collab import *\n",
    "from time import time"
   ]
  },
  {
   "cell_type": "code",
   "execution_count": 2,
   "metadata": {
    "_uuid": "995f0d3f2b67ae1d5be4a4b3c76a1d6321d56102"
   },
   "outputs": [],
   "source": [
    "path = Path('.')\n",
    "# path.ls()"
   ]
  },
  {
   "cell_type": "code",
   "execution_count": 3,
   "metadata": {
    "_uuid": "9e896d4d428d22aca0fd0da01fd2669e3baa349f"
   },
   "outputs": [
    {
     "data": {
      "text/html": [
       "<div>\n",
       "<style scoped>\n",
       "    .dataframe tbody tr th:only-of-type {\n",
       "        vertical-align: middle;\n",
       "    }\n",
       "\n",
       "    .dataframe tbody tr th {\n",
       "        vertical-align: top;\n",
       "    }\n",
       "\n",
       "    .dataframe thead th {\n",
       "        text-align: right;\n",
       "    }\n",
       "</style>\n",
       "<table border=\"1\" class=\"dataframe\">\n",
       "  <thead>\n",
       "    <tr style=\"text-align: right;\">\n",
       "      <th></th>\n",
       "      <th>user_id</th>\n",
       "      <th>business_id</th>\n",
       "      <th>stars</th>\n",
       "    </tr>\n",
       "  </thead>\n",
       "  <tbody>\n",
       "    <tr>\n",
       "      <th>0</th>\n",
       "      <td>vxR_YV0atFxIxfOnF9uHjQ</td>\n",
       "      <td>gTw6PENNGl68ZPUpYWP50A</td>\n",
       "      <td>5.0</td>\n",
       "    </tr>\n",
       "    <tr>\n",
       "      <th>1</th>\n",
       "      <td>o0p-iTC5yTBV5Yab_7es4g</td>\n",
       "      <td>iAuOpYDfOTuzQ6OPpEiGwA</td>\n",
       "      <td>4.0</td>\n",
       "    </tr>\n",
       "    <tr>\n",
       "      <th>2</th>\n",
       "      <td>-qj9ouN0bzMXz1vfEslG-A</td>\n",
       "      <td>5j7BnXXvlS69uLVHrY9Upw</td>\n",
       "      <td>2.0</td>\n",
       "    </tr>\n",
       "    <tr>\n",
       "      <th>3</th>\n",
       "      <td>E43QxgV87Ij6KxMCHcijKw</td>\n",
       "      <td>jUYp798M93Mpcjys_TTgsQ</td>\n",
       "      <td>5.0</td>\n",
       "    </tr>\n",
       "    <tr>\n",
       "      <th>4</th>\n",
       "      <td>T13IBpJITI32a1k41rc-tg</td>\n",
       "      <td>3MntE_HWbNNoyiLGxywjYA</td>\n",
       "      <td>5.0</td>\n",
       "    </tr>\n",
       "  </tbody>\n",
       "</table>\n",
       "</div>"
      ],
      "text/plain": [
       "                  user_id             business_id  stars\n",
       "0  vxR_YV0atFxIxfOnF9uHjQ  gTw6PENNGl68ZPUpYWP50A    5.0\n",
       "1  o0p-iTC5yTBV5Yab_7es4g  iAuOpYDfOTuzQ6OPpEiGwA    4.0\n",
       "2  -qj9ouN0bzMXz1vfEslG-A  5j7BnXXvlS69uLVHrY9Upw    2.0\n",
       "3  E43QxgV87Ij6KxMCHcijKw  jUYp798M93Mpcjys_TTgsQ    5.0\n",
       "4  T13IBpJITI32a1k41rc-tg  3MntE_HWbNNoyiLGxywjYA    5.0"
      ]
     },
     "execution_count": 3,
     "metadata": {},
     "output_type": "execute_result"
    }
   ],
   "source": [
    "train_df = pd.read_csv(path/'yelp_train.csv')\n",
    "test_df = pd.read_csv(path/'yelp_val.csv')\n",
    "# print(train_df.columns)\n",
    "train_df[\"stars\"]= train_df[\"stars\"].astype(float)\n",
    "test_df[\"stars\"]= test_df[\"stars\"].astype(float)\n",
    "train_df.head()"
   ]
  },
  {
   "cell_type": "code",
   "execution_count": 4,
   "metadata": {
    "_uuid": "ddd31f28f2060bf474893212b3ec6b55062334cc"
   },
   "outputs": [],
   "source": [
    "data = CollabDataBunch.from_df(ratings=train_df, seed=5, valid_pct=0.1,user_name='user_id', \n",
    "                               item_name='business_id', rating_name='stars', test=test_df, bs=len(test_df))"
   ]
  },
  {
   "cell_type": "code",
   "execution_count": 5,
   "metadata": {
    "_uuid": "bb5161f0387bae2ce3b9c59da8f54346c5159cfa"
   },
   "outputs": [],
   "source": [
    "# data.show_batch()"
   ]
  },
  {
   "cell_type": "code",
   "execution_count": 6,
   "metadata": {
    "_uuid": "082dea4c28bb16e2e249f967520ff7ac0e6de21d"
   },
   "outputs": [
    {
     "data": {
      "text/plain": [
       "(1.0, 5.0)"
      ]
     },
     "execution_count": 6,
     "metadata": {},
     "output_type": "execute_result"
    }
   ],
   "source": [
    "train_df.stars.min(), train_df.stars.max()"
   ]
  },
  {
   "cell_type": "code",
   "execution_count": 7,
   "metadata": {},
   "outputs": [],
   "source": [
    "def my_rmse(x,y):\n",
    "    return math.sqrt(((x-y)**2).mean())"
   ]
  },
  {
   "cell_type": "code",
   "execution_count": 8,
   "metadata": {},
   "outputs": [],
   "source": [
    "wd=1e-4 \n",
    "n_epochs=35\n",
    "n_factors=40\n",
    "lr=4e-3 #calculated using lr_find() method"
   ]
  },
  {
   "cell_type": "markdown",
   "metadata": {
    "_uuid": "1be0675a845a48346536718a10c70066335eb632"
   },
   "source": [
    "## EmbeddingDotBias Model"
   ]
  },
  {
   "cell_type": "code",
   "execution_count": 9,
   "metadata": {
    "_uuid": "586efd6475cb2b5e677fad8bc3898ff3d075b187"
   },
   "outputs": [],
   "source": [
    "learn = collab_learner(data, n_factors=n_factors, y_range=(1, 5.5), wd=wd, model_dir=\"./model/\", path=path)"
   ]
  },
  {
   "cell_type": "code",
   "execution_count": 10,
   "metadata": {
    "_uuid": "c9e35e23aea91cd6bdc8ae061e4638eba70aac71",
    "scrolled": true
   },
   "outputs": [
    {
     "name": "stdout",
     "output_type": "stream",
     "text": [
      "======================================================================\n",
      "Layer (type)         Output Shape         Param #    Trainable \n",
      "======================================================================\n",
      "Embedding            [40]                 450,840    True      \n",
      "______________________________________________________________________\n",
      "Embedding            [40]                 984,800    True      \n",
      "______________________________________________________________________\n",
      "Embedding            [1]                  11,271     True      \n",
      "______________________________________________________________________\n",
      "Embedding            [1]                  24,620     True      \n",
      "______________________________________________________________________\n",
      "\n",
      "Total params: 1,471,531\n",
      "Total trainable params: 1,471,531\n",
      "Total non-trainable params: 0\n",
      "\n"
     ]
    }
   ],
   "source": [
    "print(learn.summary())"
   ]
  },
  {
   "cell_type": "code",
   "execution_count": 11,
   "metadata": {
    "_uuid": "e921c5eba6ede1a03c533be762d2387cfdf09f9d"
   },
   "outputs": [],
   "source": [
    "# learn.lr_find()\n",
    "# learn.lr_find2()\n",
    "# learn.recorder.plot()"
   ]
  },
  {
   "cell_type": "code",
   "execution_count": 12,
   "metadata": {
    "_uuid": "b2bbaa618dcfb47e2150c99271e819ee9e6374b2"
   },
   "outputs": [
    {
     "data": {
      "text/html": [
       "<table border=\"1\" class=\"dataframe\">\n",
       "  <thead>\n",
       "    <tr style=\"text-align: left;\">\n",
       "      <th>epoch</th>\n",
       "      <th>train_loss</th>\n",
       "      <th>valid_loss</th>\n",
       "      <th>time</th>\n",
       "    </tr>\n",
       "  </thead>\n",
       "  <tbody>\n",
       "    <tr>\n",
       "      <td>0</td>\n",
       "      <td>1.518692</td>\n",
       "      <td>1.497269</td>\n",
       "      <td>1:35:33</td>\n",
       "    </tr>\n",
       "    <tr>\n",
       "      <td>1</td>\n",
       "      <td>1.507937</td>\n",
       "      <td>1.480526</td>\n",
       "      <td>02:10</td>\n",
       "    </tr>\n",
       "    <tr>\n",
       "      <td>2</td>\n",
       "      <td>1.497428</td>\n",
       "      <td>1.464190</td>\n",
       "      <td>02:08</td>\n",
       "    </tr>\n",
       "    <tr>\n",
       "      <td>3</td>\n",
       "      <td>1.486677</td>\n",
       "      <td>1.448148</td>\n",
       "      <td>02:09</td>\n",
       "    </tr>\n",
       "    <tr>\n",
       "      <td>4</td>\n",
       "      <td>1.474736</td>\n",
       "      <td>1.432331</td>\n",
       "      <td>02:07</td>\n",
       "    </tr>\n",
       "    <tr>\n",
       "      <td>5</td>\n",
       "      <td>1.462994</td>\n",
       "      <td>1.416662</td>\n",
       "      <td>02:09</td>\n",
       "    </tr>\n",
       "    <tr>\n",
       "      <td>6</td>\n",
       "      <td>1.450759</td>\n",
       "      <td>1.401102</td>\n",
       "      <td>02:08</td>\n",
       "    </tr>\n",
       "    <tr>\n",
       "      <td>7</td>\n",
       "      <td>1.438353</td>\n",
       "      <td>1.385591</td>\n",
       "      <td>02:06</td>\n",
       "    </tr>\n",
       "    <tr>\n",
       "      <td>8</td>\n",
       "      <td>1.424622</td>\n",
       "      <td>1.370058</td>\n",
       "      <td>02:07</td>\n",
       "    </tr>\n",
       "    <tr>\n",
       "      <td>9</td>\n",
       "      <td>1.410728</td>\n",
       "      <td>1.354456</td>\n",
       "      <td>02:09</td>\n",
       "    </tr>\n",
       "    <tr>\n",
       "      <td>10</td>\n",
       "      <td>1.395958</td>\n",
       "      <td>1.338747</td>\n",
       "      <td>02:09</td>\n",
       "    </tr>\n",
       "    <tr>\n",
       "      <td>11</td>\n",
       "      <td>1.380659</td>\n",
       "      <td>1.322960</td>\n",
       "      <td>02:10</td>\n",
       "    </tr>\n",
       "    <tr>\n",
       "      <td>12</td>\n",
       "      <td>1.364451</td>\n",
       "      <td>1.307080</td>\n",
       "      <td>02:27</td>\n",
       "    </tr>\n",
       "    <tr>\n",
       "      <td>13</td>\n",
       "      <td>1.347379</td>\n",
       "      <td>1.291147</td>\n",
       "      <td>02:49</td>\n",
       "    </tr>\n",
       "    <tr>\n",
       "      <td>14</td>\n",
       "      <td>1.329505</td>\n",
       "      <td>1.275233</td>\n",
       "      <td>02:40</td>\n",
       "    </tr>\n",
       "    <tr>\n",
       "      <td>15</td>\n",
       "      <td>1.310813</td>\n",
       "      <td>1.259448</td>\n",
       "      <td>02:37</td>\n",
       "    </tr>\n",
       "    <tr>\n",
       "      <td>16</td>\n",
       "      <td>1.291390</td>\n",
       "      <td>1.243941</td>\n",
       "      <td>02:46</td>\n",
       "    </tr>\n",
       "    <tr>\n",
       "      <td>17</td>\n",
       "      <td>1.271209</td>\n",
       "      <td>1.228833</td>\n",
       "      <td>02:56</td>\n",
       "    </tr>\n",
       "    <tr>\n",
       "      <td>18</td>\n",
       "      <td>1.250289</td>\n",
       "      <td>1.214267</td>\n",
       "      <td>02:52</td>\n",
       "    </tr>\n",
       "    <tr>\n",
       "      <td>19</td>\n",
       "      <td>1.228466</td>\n",
       "      <td>1.200407</td>\n",
       "      <td>02:53</td>\n",
       "    </tr>\n",
       "    <tr>\n",
       "      <td>20</td>\n",
       "      <td>1.206056</td>\n",
       "      <td>1.187453</td>\n",
       "      <td>02:51</td>\n",
       "    </tr>\n",
       "    <tr>\n",
       "      <td>21</td>\n",
       "      <td>1.183184</td>\n",
       "      <td>1.175522</td>\n",
       "      <td>02:53</td>\n",
       "    </tr>\n",
       "    <tr>\n",
       "      <td>22</td>\n",
       "      <td>1.159865</td>\n",
       "      <td>1.164751</td>\n",
       "      <td>02:50</td>\n",
       "    </tr>\n",
       "    <tr>\n",
       "      <td>23</td>\n",
       "      <td>1.136310</td>\n",
       "      <td>1.155259</td>\n",
       "      <td>02:55</td>\n",
       "    </tr>\n",
       "    <tr>\n",
       "      <td>24</td>\n",
       "      <td>1.112407</td>\n",
       "      <td>1.147031</td>\n",
       "      <td>02:51</td>\n",
       "    </tr>\n",
       "    <tr>\n",
       "      <td>25</td>\n",
       "      <td>1.088250</td>\n",
       "      <td>1.140108</td>\n",
       "      <td>02:51</td>\n",
       "    </tr>\n",
       "    <tr>\n",
       "      <td>26</td>\n",
       "      <td>1.064070</td>\n",
       "      <td>1.134462</td>\n",
       "      <td>02:46</td>\n",
       "    </tr>\n",
       "    <tr>\n",
       "      <td>27</td>\n",
       "      <td>1.039757</td>\n",
       "      <td>1.130002</td>\n",
       "      <td>02:49</td>\n",
       "    </tr>\n",
       "    <tr>\n",
       "      <td>28</td>\n",
       "      <td>1.015572</td>\n",
       "      <td>1.126760</td>\n",
       "      <td>03:09</td>\n",
       "    </tr>\n",
       "    <tr>\n",
       "      <td>29</td>\n",
       "      <td>0.991416</td>\n",
       "      <td>1.124590</td>\n",
       "      <td>02:53</td>\n",
       "    </tr>\n",
       "    <tr>\n",
       "      <td>30</td>\n",
       "      <td>0.967353</td>\n",
       "      <td>1.123430</td>\n",
       "      <td>02:52</td>\n",
       "    </tr>\n",
       "    <tr>\n",
       "      <td>31</td>\n",
       "      <td>0.943425</td>\n",
       "      <td>1.123195</td>\n",
       "      <td>02:52</td>\n",
       "    </tr>\n",
       "    <tr>\n",
       "      <td>32</td>\n",
       "      <td>0.919846</td>\n",
       "      <td>1.123773</td>\n",
       "      <td>02:49</td>\n",
       "    </tr>\n",
       "    <tr>\n",
       "      <td>33</td>\n",
       "      <td>0.896445</td>\n",
       "      <td>1.125116</td>\n",
       "      <td>03:04</td>\n",
       "    </tr>\n",
       "    <tr>\n",
       "      <td>34</td>\n",
       "      <td>0.873354</td>\n",
       "      <td>1.127170</td>\n",
       "      <td>03:08</td>\n",
       "    </tr>\n",
       "  </tbody>\n",
       "</table>"
      ],
      "text/plain": [
       "<IPython.core.display.HTML object>"
      ]
     },
     "metadata": {},
     "output_type": "display_data"
    }
   ],
   "source": [
    "learn.fit(lr=lr, epochs=n_epochs, wd=wd)"
   ]
  },
  {
   "cell_type": "code",
   "execution_count": 14,
   "metadata": {
    "_uuid": "1f572c23e9c42b6ad28b2b1dd7828ec0dad0d3c0"
   },
   "outputs": [],
   "source": [
    "learn.save('yelp-dot-6.pkl')"
   ]
  },
  {
   "cell_type": "code",
   "execution_count": 15,
   "metadata": {},
   "outputs": [
    {
     "name": "stdout",
     "output_type": "stream",
     "text": [
      "Took 0.000997781753540039 seconds for 142044 predictions.\n"
     ]
    }
   ],
   "source": [
    "(users,items), ratings = next(iter(data.test_dl))\n",
    "preds = learn.model(users, items)\n",
    "\n",
    "start_time = time()\n",
    "\n",
    "test_time = time() - start_time\n",
    "scores = pd.DataFrame(\n",
    "    {\"user_id\": test_df[\"user_id\"], \"business_id\": test_df[\"business_id\"], \"rating\": preds}\n",
    ")\n",
    "scores = scores.sort_values([\"user_id\", \"rating\"], ascending=[True, False])\n",
    "\n",
    "print(\"Took {} seconds for {} predictions.\".format(test_time, len(test_df)))"
   ]
  },
  {
   "cell_type": "code",
   "execution_count": 16,
   "metadata": {},
   "outputs": [],
   "source": [
    "y = test_df[\"stars\"]\n",
    "y1 = scores[\"rating\"]"
   ]
  },
  {
   "cell_type": "code",
   "execution_count": 17,
   "metadata": {},
   "outputs": [],
   "source": [
    "# type(y), type(y1)"
   ]
  },
  {
   "cell_type": "code",
   "execution_count": 18,
   "metadata": {},
   "outputs": [
    {
     "name": "stdout",
     "output_type": "stream",
     "text": [
      "RMSE:  1.063434612076758\n"
     ]
    }
   ],
   "source": [
    "result =  math.sqrt(((y1-y)**2).mean())\n",
    "print(\"RMSE: \", result)"
   ]
  },
  {
   "cell_type": "markdown",
   "metadata": {
    "_uuid": "75e8930f18401e2fd7ac8ebe2b52dd354f643fad"
   },
   "source": [
    "## Interpretation"
   ]
  },
  {
   "cell_type": "code",
   "execution_count": null,
   "metadata": {
    "_uuid": "4bc85cecb1fff002a74f874cc8e86ed33d46c770"
   },
   "outputs": [],
   "source": [
    "learn = collab_learner(data, n_factors=40, y_range=(1, 5), wd=1e-1, model_dir=\"/tmp/model/\", path=\"/tmp/\")\n",
    "learn.load('yelp-dot-1');"
   ]
  },
  {
   "cell_type": "code",
   "execution_count": null,
   "metadata": {
    "_uuid": "f92e25f9db1d6937995b14a94e365fb5f9f9dd36"
   },
   "outputs": [],
   "source": [
    "businesses = {}\n",
    "businesses =  pd.read_json(path/\"business.json\", orient='columns',lines=True)\n",
    "business_df =  pd.DataFrame.from_dict(businesses)\n",
    "business_df.head()"
   ]
  },
  {
   "cell_type": "code",
   "execution_count": null,
   "metadata": {
    "_uuid": "e3e0b59db71e119646cc4adc6b6f00913519d25c"
   },
   "outputs": [],
   "source": [
    "g = train_df.groupby('business_id')['stars'].count()\n",
    "top_business = g.sort_values(ascending=False).index.values[:1000]\n",
    "top_business = top_business.astype(str)\n",
    "top_business[:10]"
   ]
  },
  {
   "cell_type": "code",
   "execution_count": null,
   "metadata": {
    "_uuid": "594443ad53a3b2eca20f6dacd0df4e22ca9243d5"
   },
   "outputs": [],
   "source": [
    "top_businesses_with_name = []\n",
    "for business in top_business:\n",
    "    top_businesses_with_name.append(business_df[(business_df['business_id']==business)]['name'].iloc[0])\n",
    "top_businesses_with_name = np.array(top_businesses_with_name)\n",
    "top_businesses_with_name"
   ]
  },
  {
   "cell_type": "markdown",
   "metadata": {
    "_uuid": "e20eefd2a5ac29a8145c3c4f298a3b3222066f94"
   },
   "source": [
    "## Restaurant Bias"
   ]
  },
  {
   "cell_type": "code",
   "execution_count": null,
   "metadata": {
    "_uuid": "e9ef5dbcf4f2f7b697ee20f366d89b46d43316d3"
   },
   "outputs": [],
   "source": [
    "learn.model"
   ]
  },
  {
   "cell_type": "code",
   "execution_count": null,
   "metadata": {
    "_uuid": "4234db58aa944ca8bfbe3d3f7cd7c3caa108866c"
   },
   "outputs": [],
   "source": [
    "business_bias = learn.bias(top_business, is_item=True)"
   ]
  },
  {
   "cell_type": "code",
   "execution_count": null,
   "metadata": {
    "_uuid": "d3243def55595325e969aee176cda3b47ab45a5c"
   },
   "outputs": [],
   "source": [
    "mean_ratings = train_df.groupby('business_id')['stars'].mean()\n",
    "business_ratings = [(b, top_businesses_with_name[i], mean_ratings.loc[tb]) for i, (tb, b) in enumerate(zip(top_business, business_bias))]"
   ]
  },
  {
   "cell_type": "code",
   "execution_count": null,
   "metadata": {
    "_uuid": "b0951ca49a0ac1f788b10bb1460f30e85bf576c8"
   },
   "outputs": [],
   "source": [
    "item0 = lambda o:o[0]"
   ]
  },
  {
   "cell_type": "code",
   "execution_count": null,
   "metadata": {
    "_uuid": "3cf1729724390881838de407ed210abcb73c6cf9"
   },
   "outputs": [],
   "source": [
    "sorted(business_ratings, key=item0)[:15]"
   ]
  },
  {
   "cell_type": "code",
   "execution_count": null,
   "metadata": {
    "_uuid": "a6aa3295e792bde8951243425e9a4de83f1eeef8"
   },
   "outputs": [],
   "source": [
    "sorted(business_ratings, key=item0, reverse=True)[:15]"
   ]
  },
  {
   "cell_type": "code",
   "execution_count": null,
   "metadata": {
    "_uuid": "5a3208a2094cac02977343b799f582856f8e8820"
   },
   "outputs": [],
   "source": [
    "business_w = learn.weight(top_business, is_item=True)\n",
    "business_w.shape"
   ]
  },
  {
   "cell_type": "code",
   "execution_count": null,
   "metadata": {
    "_uuid": "9f343ade1d65a1b821522d2cabce8e8b85206ee6"
   },
   "outputs": [],
   "source": [
    "business_pca = business_w.pca(3)\n",
    "business_pca.shape"
   ]
  },
  {
   "cell_type": "code",
   "execution_count": null,
   "metadata": {
    "_uuid": "b89247d0ae497cc345177d5f749b954c034e8dde"
   },
   "outputs": [],
   "source": [
    "fac0,fac1,fac2 = business_pca.t()\n",
    "business_comp = [(f, i) for f,i in zip(fac0, top_businesses_with_name)]"
   ]
  },
  {
   "cell_type": "code",
   "execution_count": null,
   "metadata": {
    "_uuid": "b1e55b2c28b058d51b4ddd72b85a0e06422d26a4"
   },
   "outputs": [],
   "source": [
    "sorted(business_comp, key=itemgetter(0), reverse=True)[:10]"
   ]
  },
  {
   "cell_type": "code",
   "execution_count": null,
   "metadata": {
    "_uuid": "9883d22bcc158a14d08ac06c7630b2a232f3d3d5"
   },
   "outputs": [],
   "source": [
    "sorted(business_comp, key=itemgetter(0))[:10]"
   ]
  },
  {
   "cell_type": "code",
   "execution_count": null,
   "metadata": {
    "_uuid": "10e93a9a0c3b79f693038fc68ac694d9f45ca04e"
   },
   "outputs": [],
   "source": [
    "business_comp = [(f, i) for f,i in zip(fac1, top_businesses_with_name)]"
   ]
  },
  {
   "cell_type": "code",
   "execution_count": null,
   "metadata": {
    "_uuid": "c9e8f7c5e0309f40d5273072f54980fef1723b2d"
   },
   "outputs": [],
   "source": [
    "sorted(business_comp, key=itemgetter(0), reverse=True)[:10]"
   ]
  },
  {
   "cell_type": "code",
   "execution_count": null,
   "metadata": {
    "_uuid": "ad5967179bccdf08c4ea7655404cab93908b4e62"
   },
   "outputs": [],
   "source": [
    "sorted(business_comp, key=itemgetter(0))[:10]"
   ]
  },
  {
   "cell_type": "code",
   "execution_count": null,
   "metadata": {
    "_uuid": "403b05a2269a82b7aad8d1dd2d4ed4a188b4667a"
   },
   "outputs": [],
   "source": [
    "idxs = np.random.choice(len(top_businesses_with_name), 50, replace=False)\n",
    "idxs = list(range(50))\n",
    "X = fac0[idxs]\n",
    "Y = fac2[idxs]\n",
    "plt.figure(figsize=(15,15))\n",
    "plt.scatter(X, Y)\n",
    "for i, x, y in zip(top_businesses_with_name[idxs], X, Y):\n",
    "    plt.text(x,y,i, color=np.random.rand(3)*0.7, fontsize=11)\n",
    "plt.show()"
   ]
  }
 ],
 "metadata": {
  "kernelspec": {
   "display_name": "Python 3",
   "language": "python",
   "name": "python3"
  },
  "language_info": {
   "codemirror_mode": {
    "name": "ipython",
    "version": 3
   },
   "file_extension": ".py",
   "mimetype": "text/x-python",
   "name": "python",
   "nbconvert_exporter": "python",
   "pygments_lexer": "ipython3",
   "version": "3.6.8"
  }
 },
 "nbformat": 4,
 "nbformat_minor": 1
}
